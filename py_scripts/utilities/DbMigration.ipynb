{
 "cells": [
  {
   "cell_type": "markdown",
   "metadata": {},
   "source": [
    "# migrate data between schemas"
   ]
  },
  {
   "cell_type": "code",
   "execution_count": 1,
   "metadata": {
    "collapsed": true
   },
   "outputs": [],
   "source": [
    "from loadData import db_manager\n",
    "import pandas as pd\n",
    "import sys\n",
    "sys.path.insert(0,'../py_scripts/')\n",
    "import warnings\n",
    "import bayes_model_vrclassroom"
   ]
  },
  {
   "cell_type": "code",
   "execution_count": 2,
   "metadata": {
    "collapsed": true
   },
   "outputs": [],
   "source": [
    "# find incremental difference in index_name field between db_base and db_head\n",
    "def findCaseidDiff(db_base, db_head, index_name, table_name):\n",
    "    if isinstance(index_name,tuple) and isinstance(table_name,tuple):\n",
    "        cids_from = db_base.sql_query_fetch_df(sql='SELECT distinctrow(%s) FROM %s'%(index_name[0],table_name[0]))\n",
    "        cids_to  = db_head.sql_query_fetch_df(sql='SELECT distinctrow(%s) FROM %s'%(index_name[1],table_name[1]))\n",
    "        caseids_diff = cids_from[cids_from[index_name[0]].isin(cids_to[index_name[1]]) == False]\n",
    "        caseids_diff = caseids_diff[index_name[0]].tolist()\n",
    "    else:\n",
    "        cids_from = db_base.sql_query_fetch_df(sql='SELECT distinctrow(%s) FROM %s'%(index_name,table_name))\n",
    "        cids_to  = db_head.sql_query_fetch_df(sql='SELECT distinctrow(%s) FROM %s'%(index_name,table_name))\n",
    "        caseids_diff = cids_from[cids_from[index_name].isin(cids_to[index_name]) == False]\n",
    "        caseids_diff = caseids_diff[index_name].tolist()\n",
    "    return caseids_diff"
   ]
  },
  {
   "cell_type": "code",
   "execution_count": 3,
   "metadata": {
    "collapsed": true
   },
   "outputs": [],
   "source": [
    "def getWhereClause(index_name = 'CaseId',index_values = []):\n",
    "    if index_values != []:\n",
    "        sql = 'where %s in (%s)'%(index_name,','.join([str(x) for x in index_values]))\n",
    "        return sql\n",
    "    else:\n",
    "        warnings.warn('no index values specified')\n",
    "        return ''\n",
    "    \n",
    "# copy table between two db\n",
    "# caseids can be 'all', 'compare', or a list of int\n",
    "# set drop_table to true with caseids = 'all' to truncate the table first\n",
    "# set delete_exist to true to overwrite rows with the same caseid\n",
    "def dbMigrate(db_from,db_to,table_name,CaseIds = 'compare', index_name = 'CaseId', drop_table = False, delete_exist = False):\n",
    "    if isinstance(CaseIds,list):\n",
    "        df = db_from.fetch_table(table_name = table_name, where_clause = getWhereClause(index_name,CaseIds))\n",
    "        db_to.insert_table(df, table_name, index_name, del_row_if_exist = delete_exist)\n",
    "        \n",
    "    elif CaseIds == 'all':\n",
    "        if drop_table:\n",
    "            db_to.truncate_table(table_name)\n",
    "        df = db_from.fetch_table(table_name = table_name)\n",
    "        db_to.insert_table(df, table_name, index_name, del_row_if_exist =  (not drop_table) and (delete_exist))\n",
    "        \n",
    "    elif CaseIds == 'compare':\n",
    "        caseids_diff = findCaseidDiff(db_from, db_to, index_name, table_name)\n",
    "        if len(caseids_diff) > 0:\n",
    "            df = db_from.fetch_table(table_name = table_name, where_clause = getWhereClause(index_name,caseids_diff))\n",
    "            db_to.insert_table(df, table_name, index_name, del_row_if_exist = delete_exist)\n",
    "        "
   ]
  },
  {
   "cell_type": "code",
   "execution_count": 2,
   "metadata": {
    "collapsed": true
   },
   "outputs": [],
   "source": [
    "db_vrclassrooom = db_manager('vrclassroom')\n",
    "db_rnd = db_manager('rnd_test')\n",
    "cids_rnd = db_rnd.fetch_table(table_name = '`case`',field_names=['subjectid'],return_array=True)[:,0]\n",
    "cids_vr  = db_vrclassrooom.fetch_table(table_name = '`case`',field_names=['subjectid'],return_array=True)[:,0]"
   ]
  },
  {
   "cell_type": "code",
   "execution_count": 4,
   "metadata": {
    "collapsed": true
   },
   "outputs": [],
   "source": [
    "caseids_diff = findCaseidDiff(db_rnd, db_rnd, index_name=('CasdId','caseid'), table_name=('cpt_output_results','head_features'))"
   ]
  },
  {
   "cell_type": "code",
   "execution_count": 4,
   "metadata": {},
   "outputs": [
    {
     "name": "stdout",
     "output_type": "stream",
     "text": [
      "training accuracy:  84.2105263158 %\n",
      "0 caseids got deleted\n",
      "18 caseids got inserted or updated\n"
     ]
    }
   ],
   "source": [
    "import rose_witherrorhandling\n",
    "import percentile_witherrorhandling_2\n",
    "import signal_detection_vrclassroom\n",
    "\n",
    "# rose_witherrorhandling.main (caseids_diff,'rnd_test','rnd_test')\n",
    "caseids_diff = [69, 70, 71, 72, 73, 74, 75, 76, 77, 78, 79, 80, 81, 82, 83, 84, 85, 86]\n",
    "# caseids_diff = [21,22,23,24,25,26,27,28,29,30,31,32,33,34,35,36,37,38,40,41,42,43,44,45,46,47,49,50,51,52,61,62,63,64,65,66,67,68]\n",
    "# percentile_witherrorhandling_2.main (caseids_diff,'rnd_test','rnd_test')\n",
    "# signal_detection_vrclassroom.main  (caseids_diff,'rnd_test','rnd_test')\n",
    "bayes_model_vrclassroom.main(caseids_diff,'rnd_test','rnd_test')"
   ]
  },
  {
   "cell_type": "code",
   "execution_count": 4,
   "metadata": {},
   "outputs": [
    {
     "name": "stdout",
     "output_type": "stream",
     "text": [
      "table head_features sync start\n",
      "table head_features sync done\n",
      "table signal_detection sync start\n",
      "table signal_detection sync done\n",
      "table head_rot sync start\n",
      "table head_rot sync done\n",
      "table bayes_probabilities sync start\n",
      "table bayes_probabilities sync done\n"
     ]
    }
   ],
   "source": [
    "# copy raw data tables \n",
    "# table_names = ['cpt_output_results','distractoroutput','hmd_data','realtime_data','sensordataoutput','trial_data']\n",
    "db_base = db_manager('rnd_test')\n",
    "db_tar = db_manager('webtest')\n",
    "\n",
    "# table_names = ['patient','`case`']\n",
    "# ind_names = ['id','SubjectId']\n",
    "# for name,ind_name in zip(table_names,ind_names):\n",
    "#     print('table %s sync start'%name)\n",
    "#     dbMigrate(db_base,db_tar,name,CaseIds = 'compare', index_name=ind_name)\n",
    "#     print('table %s sync done'%name)\n",
    "\n",
    "table_names = ['head_features','signal_detection','head_rot','bayes_probabilities']\n",
    "for name in table_names:\n",
    "    print('table %s sync start'%name)\n",
    "    dbMigrate(db_base,db_tar,name,CaseIds = 'compare', index_name='CaseId')\n",
    "    print('table %s sync done'%name)"
   ]
  },
  {
   "cell_type": "code",
   "execution_count": 4,
   "metadata": {
    "collapsed": true
   },
   "outputs": [],
   "source": [
    "def dbBackupToFile(db,tableName,fileName):\n",
    "    df = db.fetch_table(table_name = tableName)\n",
    "    df.to_csv(fileName)\n",
    "\n",
    "# dbBackupToFile(db_rnd,'`case`','../backup/case_rnd_0814.csv')\n",
    "def dbRestoreFromFile(db,tableName,fileName):\n",
    "    df = pd.read_csv(fileName)\n",
    "    db.insert_table(df=df,table_name=tableName)"
   ]
  },
  {
   "cell_type": "code",
   "execution_count": 7,
   "metadata": {
    "collapsed": true
   },
   "outputs": [],
   "source": [
    "db = db_manager('webtest')\n",
    "dbBackupToFile(db,'bayes_probabilities','../backup/bayes_probabilities_LOO_A064_0816.csv')"
   ]
  },
  {
   "cell_type": "code",
   "execution_count": 19,
   "metadata": {
    "collapsed": true
   },
   "outputs": [
    {
     "data": {
      "text/plain": [
       "0     True\n",
       "1     True\n",
       "2     True\n",
       "3     True\n",
       "4     True\n",
       "5     True\n",
       "6     True\n",
       "7     True\n",
       "8     True\n",
       "9     True\n",
       "10    True\n",
       "11    True\n",
       "12    True\n",
       "13    True\n",
       "14    True\n",
       "15    True\n",
       "16    True\n",
       "17    True\n",
       "18    True\n",
       "19    True\n",
       "20    True\n",
       "21    True\n",
       "22    True\n",
       "23    True\n",
       "24    True\n",
       "25    True\n",
       "26    True\n",
       "27    True\n",
       "28    True\n",
       "29    True\n",
       "30    True\n",
       "31    True\n",
       "32    True\n",
       "33    True\n",
       "34    True\n",
       "35    True\n",
       "36    True\n",
       "37    True\n",
       "38    True\n",
       "39    True\n",
       "40    True\n",
       "41    True\n",
       "42    True\n",
       "43    True\n",
       "44    True\n",
       "45    True\n",
       "46    True\n",
       "47    True\n",
       "48    True\n",
       "49    True\n",
       "50    True\n",
       "51    True\n",
       "52    True\n",
       "53    True\n",
       "54    True\n",
       "55    True\n",
       "56    True\n",
       "57    True\n",
       "58    True\n",
       "59    True\n",
       "Name: ADHDDiagnose, dtype: bool"
      ]
     },
     "execution_count": 19,
     "metadata": {},
     "output_type": "execute_result"
    }
   ],
   "source": [
    "# test if cross-db query is correct\n",
    "# newdiag = db_vrclassrooom.sql_query_fetch_df(sql=\"select b.ADHDDiagnose,b.id  from `case` a, patient b where b.Id=a.SubjectId\")\n",
    "# olddiag = db_rnd.fetch_table(table_name='patient',field_names=['ADHDDiagnose'])\n",
    "\n",
    "# olddiag[olddiag.index.isin(cids_rnd)].ADHDDiagnose.tolist() \n",
    "# newdiag[newdiag.id.isin(cids_rnd)].ADHDDiagnose == olddiag[olddiag.index.isin(cids_rnd)].ADHDDiagnose.tolist() "
   ]
  }
 ],
 "metadata": {
  "kernelspec": {
   "display_name": "Python 3",
   "language": "python",
   "name": "python3"
  },
  "language_info": {
   "codemirror_mode": {
    "name": "ipython",
    "version": 3
   },
   "file_extension": ".py",
   "mimetype": "text/x-python",
   "name": "python",
   "nbconvert_exporter": "python",
   "pygments_lexer": "ipython3",
   "version": "3.6.1"
  }
 },
 "nbformat": 4,
 "nbformat_minor": 2
}
